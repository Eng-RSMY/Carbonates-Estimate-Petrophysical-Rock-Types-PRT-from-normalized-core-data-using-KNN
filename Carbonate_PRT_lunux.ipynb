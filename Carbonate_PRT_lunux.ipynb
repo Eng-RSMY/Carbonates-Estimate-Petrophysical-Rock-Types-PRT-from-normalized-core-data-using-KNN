{
 "cells": [
  {
   "cell_type": "markdown",
   "metadata": {},
   "source": [
    "# Estimate-Petrophysical-Rock-Types-PRT-from-normalized-core-data-using-KNN\n",
    "\n",
    "### Introduction\n",
    "\n",
    "#### Predict Petrophysical Rock Types (PRT)\n",
    "\n",
    "###### The objective of this project is to estimate Petrophysical Rock Types (PRTs) as defined by Clerke(1) for the Arab-D carbonate reservoir using just Porosity and Permeability. This project utilizes normalized Porosity and Permeability values. We calculate the Euclidean distance between the reference data and the normalized user defined poro-perm and determines the most likely PRT for the user defined values. \n",
    "\n",
    "###### The Arab D data set from Clerke is quite distinctive. Clerke acquired nearly 450 High Pressure Mercury Injection Capillary Pressure (HPMI) measurements in the Arab D reservoir; however, Clerke's final samples were randomly selected from 1,000's of pre-qualified core samples ensuring a broad distribution and representation of all Petrophysical properties.  Clerke fit a Thomeer hyperbolas to each pore system in each sample to generate the published Thomeer Capillary Pressure parameters including Bulk Volume Occupied (BVi), curvature of Capillary Pressure curve related to the variability of pore throats (Gi) and the Initial Displacement Pressures (Pdi) for each pore system i. From these data Clerke established the PRTs based on the Initial Displacement Pressures for each pore system and the number of pore systems present in each sample. From the figure below it is rather evident that Clerke's PRTs are Petrophysically well-defined where each color represents a different PRT.  The Capillary Pressure curves and Pore Throat Distributions (PTD) shown on the right hand side of the figure illustrate the unique characteristics of each PRT. \n",
    "\n",
    "\n",
    "![TS_Image](PRT.png)\n",
    "\n",
    "\n",
    "###### The characterization of each PRTs is shown below:\n",
    "\n",
    "\n",
    "![TS_Image](Rock-Types.png)\n",
    "\n",
    "\n",
    "###### As can be seen in the first figure above, the PRTs are rather well segregated on the Porosity vs. Permeability Cross Plot as they fall in distinct regions or clusters on the Cross Plot. \n",
    "\n",
    "###### For modeling purposes it is important to take advantage of the excellent correlations between the Thomeer Capillary Pressure parameters. the correlation of core Permeability vs. the Mode of the Pore Throats Distribution has a high correlation coefficient of 0.88. Pd1 correlates to the Mode of the PTD with a correlation coefficient of 0.99. The Mode of the PTD can be calculated directly from the Thomeer Parameters using the following equation:\n",
    "\n",
    "\tMode of PTD (microns) = exp(-1.15*G1) * (214/Pd1)\n",
    "\n",
    "###### The calculated Mode of PTD above is located at the exact peak of the Capillary Pressure derivative-derived Pore Throat Distribution for the most dominate pore size, and this represents the most abundant pore throat for the sample. We have found that the Mode of the PTD to be very useful in the 2D and 3D modeling of Petrophysical Properties for both Carbonate and Clastic reservoirs. Winland's r35 tries to approximate the mode; however, Amaefule's FZI is the mean pore throat radius and falls between the two modes of a bi-modal carbonate sample. \n",
    "\n",
    "###### The code for this program requires the user to input Porosity and Permeability, and then the program calculates the most probable Rock Type (Rock_Index) and provides a Capillary Pressure curve for that Rock Type considering the user provided porosity and permeability.\n",
    "\n",
    "\n",
    "![TS_Image](knn_results.png)\n",
    "\n",
    "\n",
    "\n",
    "\n",
    "\n",
    "\n",
    "\n",
    "1 Clerke, E. A., Mueller III, H. W., Phillips, E. C., Eyvazzadeh, R. Y., Jones, D. H., Ramamoorthy, R., Srivastava, A., (2008) “Application of Thomeer Hyperbolas to decode the pore systems, facies and reservoir properties of the Upper Jurassic Arab D Limestone, Ghawar field, Saudi Arabia: A Rosetta Stone approach”, GeoArabia, Vol. 13, No. 4, p. 113-160, October, 2008. \n",
    "\n"
   ]
  },
  {
   "cell_type": "markdown",
   "metadata": {},
   "source": [
    "### Code:\n",
    "\n",
    "###### Load dependencies"
   ]
  },
  {
   "cell_type": "code",
   "execution_count": 1,
   "metadata": {},
   "outputs": [
    {
     "name": "stderr",
     "output_type": "stream",
     "text": [
      "\n",
      "Bad key \"text.kerning_factor\" on line 4 in\n",
      "/Users/craig/opt/anaconda3/lib/python3.7/site-packages/matplotlib/mpl-data/stylelib/_classic_test_patch.mplstyle.\n",
      "You probably need to get an updated matplotlibrc file from\n",
      "https://github.com/matplotlib/matplotlib/blob/v3.1.3/matplotlibrc.template\n",
      "or from the matplotlib source distribution\n"
     ]
    }
   ],
   "source": [
    "# -*- coding: utf-8 -*-\n",
    "\"\"\"\n",
    "Created on Tue Aug 27 09:50:53 2019\n",
    "\n",
    "@author: craig\n",
    "\"\"\"\n",
    "\n",
    "\n",
    "import matplotlib.pyplot as plt\n",
    "import numpy as np\n",
    "import math\n",
    "import pandas as pd\n",
    "from colorama import Fore, Style\n"
   ]
  },
  {
   "cell_type": "markdown",
   "metadata": {},
   "source": [
    "###### Load Thomeer Reference Data"
   ]
  },
  {
   "cell_type": "code",
   "execution_count": 2,
   "metadata": {},
   "outputs": [],
   "source": [
    "# =============================================================================\n",
    "# # ===========================================================================\n",
    "# # #-------------------------------------------------------------------------- \n",
    "# # #                Read Reference Data Spreadsheet \n",
    "# # #  Read mapinv_reference_data_carbonates_calculatedMode_Rosetta data \n",
    "# # #                which is the Rosetta Stone reference data per Clerke\n",
    "# # #--------------------------------------------------------------------------\n",
    "# # ===========================================================================\n",
    "# =============================================================================\n",
    "\n",
    "\n",
    "Thomeer_core_data = pd.read_csv('mapinv_reference_data_carbonates_calculatedMode_Rosetta.csv') \n",
    "\n",
    "\n",
    "# ------------------------------------------------------------------ \n",
    "#    read in maininv_reference2 data which is just Rosetta Stone \n",
    "#                     this is reference data\n",
    "#                       DATA WILL BE LOADED\n",
    "# ------------------------------------------------------------------\n",
    "\n",
    "\n",
    "Permeability = Thomeer_core_data['PERMEABILITY']\n",
    "Porosity = Thomeer_core_data['POROSITY']\n",
    "G1 = Thomeer_core_data['G1']\n",
    "PD1 = Thomeer_core_data['PD1']\n",
    "BV1 = Thomeer_core_data['BV1']\n",
    "G2 = Thomeer_core_data['G2']\n",
    "PD2 = Thomeer_core_data['PD2']\n",
    "BV2 = Thomeer_core_data['BV2']\n",
    "Rock_Index = Thomeer_core_data['ROCK_INDEX']\n",
    "\n",
    "        "
   ]
  },
  {
   "cell_type": "markdown",
   "metadata": {},
   "source": [
    "###### Define Normalization Scheme"
   ]
  },
  {
   "cell_type": "code",
   "execution_count": 3,
   "metadata": {},
   "outputs": [],
   "source": [
    "Perm_max = 4\n",
    "Perm_min = -4\n",
    "Por_max = .35\n",
    "Por_min = 0"
   ]
  },
  {
   "cell_type": "markdown",
   "metadata": {},
   "source": [
    "###### Plot Porosity and Permeability data with Color Z-axis for PRT"
   ]
  },
  {
   "cell_type": "code",
   "execution_count": 4,
   "metadata": {},
   "outputs": [
    {
     "data": {
      "image/png": "[encoded data removed]",
      "text/plain": [
       "<Figure size 432x288 with 1 Axes>"
      ]
     },
     "metadata": {
      "needs_background": "light"
     },
     "output_type": "display_data"
    },
    {
     "name": "stdout",
     "output_type": "stream",
     "text": [
      "\n",
      "\n",
      "\u001b[34m  Cyan -       Rock_Index = 1 which is Macro-Porous Rock with Meso-Porous Grains\n",
      "\u001b[34m  DodgerBlue - Rock_Index = 2 which is Macro-Porous Rock with Micro-Porous Grains\n",
      "\u001b[34m  Blue -       Rock_Index = 3 which is Macro-Porous Rock with Micro and Meso-Porous Grains\n",
      "\u001b[34m  Yellow -     Rock_Index = 4 which is Meso-Porous Rock\n",
      "\u001b[34m  Orange -     Rock_Index = 5 which is Meso-Porous Rock with Micro-Porous Grains\n",
      "\u001b[34m  Brown -      Rock_Index = 6 which is Micro-Porous Rock\n",
      "\n",
      "\u001b[0m\n"
     ]
    }
   ],
   "source": [
    "# =============================================================================\n",
    "# # ===========================================================================\n",
    "# # #------------------------------------------------------------ \n",
    "# # #               \n",
    "# # #     End of reading in mapinv reference data\n",
    "# # #------------------------------------------------------------\n",
    "# # ===========================================================================\n",
    "# =============================================================================\n",
    "\n",
    "xpor=np.array(Porosity)\n",
    "yperm=np.array(Permeability)\n",
    "\n",
    "\n",
    "for i in range(0,len(Thomeer_core_data),1):\n",
    "    if Rock_Index[i]   == 1:\n",
    "        plt.semilogy(Porosity[i], Permeability[i], color='cyan', linestyle='none', marker='o', markerfacecolor='cyan', markersize=6)\n",
    "    elif Rock_Index[i]  == 2: \n",
    "        plt.semilogy(Porosity[i], Permeability[i], color='dodgerblue', linestyle='none', marker='o', markerfacecolor='dodgerblue', markersize=6)  \n",
    "    elif Rock_Index[i]  == 3:\n",
    "        plt.semilogy(Porosity[i], Permeability[i], color='blue', linestyle='none', marker='o', markerfacecolor='blue', markersize=6)\n",
    "    elif Rock_Index[i]  == 4:\n",
    "        plt.semilogy(Porosity[i], Permeability[i], color='yellow', linestyle='none', marker='o', markerfacecolor='yellow', markersize=7)\n",
    "    elif Rock_Index[i]  == 5:\n",
    "        plt.semilogy(Porosity[i], Permeability[i], color='orange', linestyle='none', marker='^', markerfacecolor='orange', markersize=6)\n",
    "    else:\n",
    "        plt.semilogy(Porosity[i], Permeability[i], color='brown', linestyle='none', marker='d', markerfacecolor='brown', markersize=6)\n",
    "\n",
    "\n",
    "plt.xlim(0,0.4)\n",
    "plt.ylim(0.0001, 10000)\n",
    "plt.title(\"Core Porosity-Permeability Data\", color = 'blue')\n",
    "plt.ylabel('Permeability (mD)', color = 'blue')\n",
    "plt.xlabel('Porosity (f)', color = 'blue')\n",
    "plt.grid(True)\n",
    "#plt.legend()\n",
    "plt.show()\n",
    "\n",
    "\n",
    "print()\n",
    "print()\n",
    "print(Fore.BLUE + '  Cyan -       Rock_Index = 1 which is Macro-Porous Rock with Meso-Porous Grains')\n",
    "print(Fore.BLUE + '  DodgerBlue - Rock_Index = 2 which is Macro-Porous Rock with Micro-Porous Grains') \n",
    "print(Fore.BLUE + '  Blue -       Rock_Index = 3 which is Macro-Porous Rock with Micro and Meso-Porous Grains') \n",
    "print(Fore.BLUE + '  Yellow -     Rock_Index = 4 which is Meso-Porous Rock') \n",
    "print(Fore.BLUE + '  Orange -     Rock_Index = 5 which is Meso-Porous Rock with Micro-Porous Grains') \n",
    "print(Fore.BLUE + '  Brown -      Rock_Index = 6 which is Micro-Porous Rock') \n",
    "print()\n",
    "print(Style.RESET_ALL) \n",
    " "
   ]
  },
  {
   "cell_type": "markdown",
   "metadata": {},
   "source": [
    "###### Input User Porosity and Permeability Data"
   ]
  },
  {
   "cell_type": "code",
   "execution_count": 5,
   "metadata": {},
   "outputs": [
    {
     "name": "stdout",
     "output_type": "stream",
     "text": [
      "Input Porosity (fraction) = .28\n",
      "Input Permeability (mD) = 450\n"
     ]
    }
   ],
   "source": [
    "Por = float(input('Input Porosity (fraction) = '))\n",
    "Perm = float(input('Input Permeability (mD) = '))"
   ]
  },
  {
   "cell_type": "markdown",
   "metadata": {},
   "source": [
    "###### This is the beginning of KNN"
   ]
  },
  {
   "cell_type": "code",
   "execution_count": 11,
   "metadata": {},
   "outputs": [],
   "source": [
    "# =============================================================================\n",
    "# # ===========================================================================\n",
    "# # #--------------------------------------------------------------------------\n",
    "# ##\n",
    "# ##            This is the beginnin of KNN\n",
    "# ##\n",
    "# # #--------------------------------------------------------------------------\n",
    "# # ===========================================================================\n",
    "# =============================================================================\n",
    "\n",
    "\n",
    "\n",
    "#normalized Porosity and Permeability inputs\n",
    "por = (Por-Por_min)/(Por_max - Por_min)\n",
    "perm= (math.log10(Perm) - Perm_min)/(Perm_max - Perm_min)\n",
    "\n",
    "\n",
    "\n",
    "# =============================================================================\n",
    "# #---------------------------------------------------------------------------- \n",
    "# #           \n",
    "# #              ESTIMATE THOMEER PARAMETERS FOR BOTH PORE SYSTEMS\n",
    "# #                   \n",
    "# #----------------------------------------------------------------------------\n",
    "# =============================================================================\n",
    "\n",
    "dist_inv = []\n",
    "dist_phi = []\n",
    "dist_lperm = []\n",
    "G1_weight = []\n",
    "PD1_weight = []\n",
    "BV1_weight = []\n",
    "G2_weight = []\n",
    "PD2_weight = []\n",
    "BV2_weight = []\n",
    "#Rock_Index_weight = []\n",
    "\n",
    "\n",
    "dist_inv_total=0\n",
    "G1_total  = 0\n",
    "PD1_total = 0\n",
    "BV1_total = 0\n",
    "G2_total  = 0\n",
    "PD2_total = 0\n",
    "BV2_total = 0\n",
    "\n",
    "inv_dist_array = []\n",
    "#distance_knn_array = [rows,columns]\n",
    "distance_knn_array = []\n",
    "\n",
    "#------------------------------------------------------------------ \n",
    "#               Estimate all Thomeer Parameters for *_est values\n",
    "#-------------------------------------------------------------------\n",
    "\n",
    "Porosity_norm     = []\n",
    "Permeability_norm = []\n",
    "\n",
    "\n",
    "#this is the mapinv_reference_data being used \n",
    "for i in range(0,len(Thomeer_core_data),1):\n",
    "\n",
    "        Porosity_norm.append((Porosity[i] - Por_min) / (Por_max - Por_min))\n",
    "        Permeability_norm.append((math.log10(Permeability[i]) - Perm_min) / (Perm_max - Perm_min))\n",
    "        \n",
    "        #Euclidian Distance\n",
    "        dist_phi.append(   abs(por  - Porosity_norm[i]    ))  \n",
    "        dist_lperm.append( abs(perm - Permeability_norm[i]))\n",
    "        dist_inv.append( 1  /  math.sqrt(  dist_phi[i]**2 + dist_lperm[i]**2)  )\n",
    "\n",
    "        \n",
    "        #calculalte weights for each\n",
    "        G1_weight.append(dist_inv[i]  * G1[i])\n",
    "        PD1_weight.append(dist_inv[i] * PD1[i])\n",
    "        BV1_weight.append(dist_inv[i] * BV1[i])\n",
    "        G2_weight.append(dist_inv[i]  * G2[i])\n",
    "        PD2_weight.append(dist_inv[i] * PD2[i])\n",
    "        BV2_weight.append(dist_inv[i] * BV2[i])\n",
    "        #Rock_Index_weight.append(dist_inv[i] * Rock_Index[i])\n",
    "        \n",
    "\n",
    "\n",
    "        inv_dist_array.append(dist_inv[i]);  # add items\n",
    "\n",
    "# =============================================================================\n",
    "###                    KNN Array\n",
    "# # ===========================================================================\n",
    "# # #--------------------------------------------------------------------------\n",
    "        distance_knn_array = [dist_inv, G1_weight, PD1_weight, BV1_weight, G2_weight, PD2_weight, BV2_weight,Rock_Index]\n",
    "#        distance_knn_array = [Permeability, Porosity, G1, PD1, BV1, G2, PD2, BV2]\n",
    "# # #--------------------------------------------------------------------------\n",
    "# # ===========================================================================\n",
    "# =============================================================================\n",
    "xnorm=np.array(Porosity_norm)\n",
    "ynorm=np.array(Permeability_norm)\n",
    "\n",
    "\n",
    "# =============================================================================\n",
    "# # ===========================================================================\n",
    "# # #--------------------------------------------------------------------------\n",
    "# # #           \n",
    "# # #               Transpose and Sort new kNN array\n",
    "# # #                   \n",
    "# # #--------------------------------------------------------------------------\n",
    "# # ===========================================================================\n",
    "# =============================================================================\n",
    "\n",
    "#knn_array = np.transpose array\n",
    "knn_array = np.transpose(distance_knn_array)\n",
    "#print(knn_array)\n",
    "\n",
    "#Sort array from large to low by column 0 which is dist_inv \n",
    "#xknn=np.array(knn_array)\n",
    "\n",
    "#matsor x[x[:,column].argsort()[::-1]] and -1 us reverse order\n",
    "mat_sort = knn_array[knn_array[:,0].argsort()[::-1]] #firt column reverse sort (-1)\n",
    "#mat_sort = x[x[:,1].argsort()[::-1]]\n",
    "#mat_sort = x[x[:,2].argsort()[::-1]]\n"
   ]
  },
  {
   "cell_type": "markdown",
   "metadata": {},
   "source": [
    "###### Estimate Thomeer Parameters"
   ]
  },
  {
   "cell_type": "code",
   "execution_count": 12,
   "metadata": {},
   "outputs": [
    {
     "name": "stdout",
     "output_type": "stream",
     "text": [
      "\n",
      "\n"
     ]
    }
   ],
   "source": [
    "# =============================================================================\n",
    "# # ===========================================================================\n",
    "# # #--------------------------------------------------------------------------\n",
    "# # #           \n",
    "# # #               Calculate knn Thomeer Parameters\n",
    "# # #                   \n",
    "# # #--------------------------------------------------------------------------\n",
    "# # ===========================================================================\n",
    "# =============================================================================\n",
    "\n",
    "\n",
    "#------------------------------------------------------------------------------\n",
    "#    Number of nearest Neighbors\n",
    "#------------------------------------------------------------------------------\n",
    "n_neighbors = 3\n",
    "#------------------------------------------------------------------------------\n",
    "\n",
    "dist_inv_total_knn = 0\n",
    "G1_total_knn = 0\n",
    "PD1_total_knn = 0\n",
    "BV1_total_knn = 0\n",
    "G2_total_knn = 0\n",
    "PD2_total_knn = 0\n",
    "BV2_total_knn = 0\n",
    "#Rock_Index_total_knn = 0\n",
    "\n",
    "\n",
    "\n",
    "#kNN Estimates for first 3 rows\n",
    "#dist_inv_total = mat_sort[0][0] + mat_sort[1][0] + mat_sort[2][0]\n",
    "for i in range(0,n_neighbors,1):\n",
    "    dist_inv_total_knn = dist_inv_total_knn + mat_sort[i][0]\n",
    "    G1_total_knn  = G1_total_knn + mat_sort[i][1]\n",
    "    PD1_total_knn = PD1_total_knn + mat_sort[i][2]\n",
    "    BV1_total_knn = BV1_total_knn + mat_sort[i][3]\n",
    "    G2_total_knn  = G2_total_knn + mat_sort[i][4]\n",
    "    PD2_total_knn = PD2_total_knn + mat_sort[i][5]\n",
    "    BV2_total_knn = BV2_total_knn + mat_sort[i][6]\n",
    "    #Rock_Index_total_knn = Rock_Index_total_knn + mat_sort[i][7]\n",
    "    #print(mat_sort[i][7])\n",
    "    \n",
    "    \n",
    "#back to k values and calculate estimations now\n",
    "G1_est_knn  = G1_total_knn  / dist_inv_total_knn\n",
    "PD1_est_knn = PD1_total_knn / dist_inv_total_knn\n",
    "BV1_est_knn = (BV1_total_knn / dist_inv_total_knn)\n",
    "G2_est_knn  = G2_total_knn  / dist_inv_total_knn\n",
    "PD2_est_knn = PD2_total_knn / dist_inv_total_knn\n",
    "BV2_est_knn = (BV2_total_knn / dist_inv_total_knn)\n",
    "#Rock_Index_est_knn = int(Rock_Index_total_knn / n_neighbors)\n",
    "\n",
    "print()\n",
    "print()\n"
   ]
  },
  {
   "cell_type": "markdown",
   "metadata": {},
   "source": [
    "###### Calculate Pc Curve from Thomeer Parameters"
   ]
  },
  {
   "cell_type": "code",
   "execution_count": 13,
   "metadata": {},
   "outputs": [],
   "source": [
    "Pc = 0.5\n",
    "bvarray = []\n",
    "pcarray = []\n",
    "\n",
    "for j in range(1, 105, 1):\n",
    "    if Pc > PD1_est_knn:\n",
    "        BVOCC1 = BV1_est_knn * 10**((-0.434 * G1_est_knn) / math.log10(Pc / PD1_est_knn))\n",
    "    else:\n",
    "        BVOCC1 = 0.001\n",
    "\n",
    "    if Pc > PD2_est_knn:\n",
    "        BVOCC2 = BV2_est_knn * 10**((-0.434 * G2_est_knn) / math.log10(Pc / PD2_est_knn))\n",
    "    else:\n",
    "        BVOCC2 = 0.001\n",
    "\n",
    "\n",
    "    BVOCC = BVOCC1 + BVOCC2\n",
    "    \n",
    "    bvarray.append(BVOCC)\n",
    "    pcarray.append(Pc)\n",
    "    \n",
    "    Pc = Pc * 1.12\n",
    "\n",
    "   \n",
    "x=np.array(bvarray)\n",
    "y=np.array(pcarray)\n"
   ]
  },
  {
   "cell_type": "markdown",
   "metadata": {},
   "source": [
    "###### Estimate most likely PRT"
   ]
  },
  {
   "cell_type": "code",
   "execution_count": 14,
   "metadata": {},
   "outputs": [],
   "source": [
    "# =============================================================================\n",
    "# # ===========================================================================\n",
    "# # #--------------------------------------------------------------------------\n",
    "# # #           \n",
    "# # #              Rock Type from Most Common in KNN series\n",
    "# # #--------------------------------------------------------------------------\n",
    "# # ===========================================================================\n",
    "# =============================================================================  \n",
    "from collections import Counter \n",
    "  \n",
    "def most_frequent(List): \n",
    "    occurence_count = Counter(List) \n",
    "    return occurence_count.most_common(1)[0][0]\n",
    "\n",
    "#List = [mat_sort[0][7],mat_sort[1][7],mat_sort[2][7],mat_sort[3][7],mat_sort[4][7]]\n",
    "List = []\n",
    "\n",
    "for d in range(0,n_neighbors):\n",
    "    List.append(mat_sort[d,7])\n",
    "\n",
    "\n",
    "#print(most_frequent(List)) \n",
    "if most_frequent(List)   == 1:\n",
    "    RxType = 'Macro-Porous Rock with Meso-Porous Grains'\n",
    "elif most_frequent(List) == 2: \n",
    "   RxType = 'Macro-Porous Rock with Micro-Porous Grains'    \n",
    "elif most_frequent(List) == 3:\n",
    "    RxType = 'Macro-Porous Rock with Meso and Micro Grains'\n",
    "elif most_frequent(List) == 4:\n",
    "    RxType = 'Type 1 Meso-Porous Rock, uni-modal'\n",
    "elif most_frequent(List) == 5:\n",
    "    RxType = 'Type 1 Meso-Porous Rock with Micro-Porous Grains'\n",
    "else:\n",
    "    RxType = 'Non-Reservoir, Type 2 Micro-Porous Rock'\n"
   ]
  },
  {
   "cell_type": "markdown",
   "metadata": {},
   "source": [
    "###### Plot Figures"
   ]
  },
  {
   "cell_type": "code",
   "execution_count": 15,
   "metadata": {},
   "outputs": [
    {
     "data": {
      "image/png": "[encoded data removed]",
      "text/plain": [
       "<Figure size 432x288 with 1 Axes>"
      ]
     },
     "metadata": {
      "needs_background": "light"
     },
     "output_type": "display_data"
    },
    {
     "name": "stdout",
     "output_type": "stream",
     "text": [
      "\n",
      "\u001b[31mMost Frequent Rock_Index with  KNN = 3 using normlalized Poro-Perm data.\n",
      "\u001b[31m     Rock_Index = 1.0 , which is a Macro-Porous Rock with Meso-Porous Grains\n",
      "\n",
      "\n",
      "\u001b[32mEstimated Thomeer Parameters from KNN = 3  using normlalized Poro-Perm data.\n",
      "\u001b[32m     G1 = 0.4796856601289426 ,  Pd1 = 3.435187039628563 , BV1(%) = 22.405338903547115\n",
      "\u001b[32m     G2 = 0.08337556389780758 ,  Pd2 = 200.7403117692338 , BV2(%) = 5.6759286583594895\n",
      "\u001b[0m\n"
     ]
    },
    {
     "data": {
      "image/png": "[encoded data removed]",
      "text/plain": [
       "<Figure size 432x288 with 1 Axes>"
      ]
     },
     "metadata": {
      "needs_background": "light"
     },
     "output_type": "display_data"
    },
    {
     "name": "stdout",
     "output_type": "stream",
     "text": [
      "\n",
      "\u001b[34mCapillary Pressure Curve for a Rock_Index = 1.0 sample, which is a Macro-Porous Rock with Meso-Porous Grains, generally bi-modal\n",
      "\u001b[0m\n"
     ]
    }
   ],
   "source": [
    "# =============================================================================\n",
    "# # ===========================================================================\n",
    "# # #--------------------------------------------------------------------------\n",
    "# # #           \n",
    "# # #              Plot to Figures\n",
    "# # #--------------------------------------------------------------------------\n",
    "# # ===========================================================================\n",
    "# =============================================================================\n",
    "\n",
    "\n",
    "# =============================================================================\n",
    "# Porosity vs. Permeability Cross Plot with Rock Types on Z-axis\n",
    "# =============================================================================\n",
    "plt.figure(0)\n",
    "\n",
    "for i in range(0,len(Thomeer_core_data),1):\n",
    "    if Rock_Index[i]   == 1:\n",
    "        plt.semilogy(Porosity[i], Permeability[i], color='cyan', linestyle='none', marker='o', markerfacecolor='cyan', markersize=6)\n",
    "    elif Rock_Index[i]  == 2: \n",
    "        plt.semilogy(Porosity[i], Permeability[i], color='dodgerblue', linestyle='none', marker='o', markerfacecolor='dodgerblue', markersize=6)  \n",
    "    elif Rock_Index[i]  == 3:\n",
    "        plt.semilogy(Porosity[i], Permeability[i], color='blue', linestyle='none', marker='o', markerfacecolor='blue', markersize=6)\n",
    "    elif Rock_Index[i]  == 4:\n",
    "        plt.semilogy(Porosity[i], Permeability[i], color='yellow', linestyle='none', marker='o', markerfacecolor='yellow', markersize=7)\n",
    "    elif Rock_Index[i]  == 5:\n",
    "        plt.semilogy(Porosity[i], Permeability[i], color='orange', linestyle='none', marker='^', markerfacecolor='orange', markersize=6)\n",
    "    else:\n",
    "        plt.semilogy(Porosity[i], Permeability[i], color='brown', linestyle='none', marker='d', markerfacecolor='brown', markersize=6)\n",
    "\n",
    "\n",
    "plt.semilogy(Por, Perm, 'ro', linewidth=0,  markersize=15 , label='User ')\n",
    "plt.xlim(0,0.4)\n",
    "plt.ylim(0.0001, 10000)\n",
    "plt.title(\"Core Porosity-Permeability Data\", color = 'red')\n",
    "plt.ylabel('Permeability (mD)', color = 'red')\n",
    "plt.xlabel('Porosity (f)', color = 'red' )\n",
    "plt.grid(True)\n",
    "plt.legend()\n",
    "#plt.show(block=False)\n",
    "plt.show()\n",
    "\n",
    "\n",
    "print()\n",
    "print(Fore.RED +'Most Frequent Rock_Index with  KNN =',n_neighbors,'using normlalized Poro-Perm data.')    \n",
    "print(Fore.RED + '     Rock_Index =', most_frequent(List), ', which is a', RxType) \n",
    "\n",
    "\n",
    "print()\n",
    "print()\n",
    "print(Fore.GREEN +'Estimated Thomeer Parameters from KNN =',n_neighbors,' using normlalized Poro-Perm data.')\n",
    "print(Fore.GREEN + '     G1 =',G1_est_knn, ',  Pd1 =',PD1_est_knn, ', BV1(%) =',BV1_est_knn) \n",
    "print(Fore.GREEN + '     G2 =',G2_est_knn, ',  Pd2 =',PD2_est_knn, ', BV2(%) =',BV2_est_knn) \n",
    "print(Style.RESET_ALL) \n",
    "#print('back to normal now') \n",
    "\n",
    "\n",
    "#print(most_frequent(List)) \n",
    "if most_frequent(List)   == 1:\n",
    "    RxType2 = 'Macro-Porous Rock with Meso-Porous Grains, generally bi-modal'\n",
    "elif most_frequent(List) == 2: \n",
    "   RxType2 = 'Macro-Porous Rock with Micro-Porous Grains,  bi-modal'    \n",
    "elif most_frequent(List) == 3:\n",
    "    RxType2 = 'Macro-Porous Rock with Meso and Micro Grains, tri-modal'\n",
    "elif most_frequent(List) == 4:\n",
    "    RxType2 = 'Type 1 Meso-Porous Rock, uni-modal'\n",
    "elif most_frequent(List) == 5:\n",
    "    RxType2 = 'Type 1 Meso-Porous Rock with Micro-Porous Grains, bi-modal'\n",
    "else:\n",
    "    RxType2 = 'Non-Reservoir, Type 2 Micro-Porous Rock'\n",
    "\n",
    "\n",
    "\n",
    "# =============================================================================\n",
    "# Capillary Pressure Plot\n",
    "# =============================================================================\n",
    "plt.figure(1)\n",
    "#plt.loglog(x, y  , 'g-', linewidth=1, label='Inv Dist Weighted Pc Curve')\n",
    "\n",
    "if most_frequent(List)   == 1:\n",
    "    plt.loglog(x, y, color='cyan', linestyle='solid', linewidth=4, label='Pc Curve Rx_Index 1')\n",
    "elif most_frequent(List)   == 2: \n",
    "    plt.loglog(x, y, color='dodgerblue', linestyle='solid', linewidth=4, label='Pc Curve Rx_Index 2')\n",
    "elif most_frequent(List)   == 3:\n",
    "    plt.loglog(x, y, color='blue', linestyle='solid', linewidth=4, label='Pc Curve Rx_Index 3')\n",
    "elif most_frequent(List)   == 4:\n",
    "    plt.loglog(x, y, color='yellow', linestyle='solid' , linewidth=5, label='Pc Curve Rx_Index 4')\n",
    "    plt.loglog(x, y, color='black' , linestyle='dotted', linewidth=2)\n",
    "elif most_frequent(List)   == 5:\n",
    "    plt.loglog(x, y, color='orange', linestyle='solid', linewidth=4, label='Pc Curve Rx_Index 5')\n",
    "else:\n",
    "    plt.loglog(x, y, color='brown', linestyle='solid', linewidth=4, label='Pc Curve Rx_Index 6')\n",
    "\n",
    "\n",
    "#plt.loglog(x, y, 'r-' , linewidth=3, label='Pc Curve from KNN')\n",
    "\n",
    "plt.xlim(50, 0.1)\n",
    "#plt.gca().invert_xaxis()\n",
    "plt.ylim(1, 100000)\n",
    "plt.title(\"Pc Curve from KNN Estimated Thomeer Parameters\", color = 'blue')\n",
    "plt.ylabel('Pc', color = 'blue')\n",
    "plt.xlabel('BVOCC', color = 'blue')\n",
    "plt.grid(True)\n",
    "plt.legend()\n",
    "plt.show()\n",
    "\n",
    "print()\n",
    "#print(Fore.RED +'Estimated Clerke Arab D Carbonate Rock Type from KNN =',n_neighbors,' using normlalized Poro-Perm data')    \n",
    "print(Fore.BLUE + 'Capillary Pressure Curve for a Rock_Index =', most_frequent(List), 'sample, which is a', RxType2) \n",
    "\n",
    "print(Style.RESET_ALL) \n"
   ]
  },
  {
   "cell_type": "code",
   "execution_count": null,
   "metadata": {},
   "outputs": [],
   "source": []
  },
  {
   "cell_type": "code",
   "execution_count": null,
   "metadata": {},
   "outputs": [],
   "source": []
  }
 ],
 "metadata": {
  "kernelspec": {
   "display_name": "Python 3",
   "language": "python",
   "name": "python3"
  },
  "language_info": {
   "codemirror_mode": {
    "name": "ipython",
    "version": 3
   },
   "file_extension": ".py",
   "mimetype": "text/x-python",
   "name": "python",
   "nbconvert_exporter": "python",
   "pygments_lexer": "ipython3",
   "version": "3.7.7"
  }
 },
 "nbformat": 4,
 "nbformat_minor": 2
}
